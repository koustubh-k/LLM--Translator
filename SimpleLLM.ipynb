{
 "cells": [
  {
   "cell_type": "code",
   "execution_count": null,
   "id": "77256e11",
   "metadata": {},
   "outputs": [
    {
     "data": {
      "text/plain": [
       "'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'"
      ]
     },
     "execution_count": 1,
     "metadata": {},
     "output_type": "execute_result"
    }
   ],
   "source": [
    "import os\n",
    "from dotenv import load_dotenv\n",
    "load_dotenv()\n",
    "\n",
    "os.environ[\"LANGCHAIN_API_KEY\"] = os.getenv(\"LANGCHAIN_API_KEY\")\n",
    "os.environ[\"LANGCHAIN_TRACKING\"] = \"true\"\n",
    "groq_api_key = os.getenv(\"GROQ_API_KEY\")"
   ]
  },
  {
   "cell_type": "code",
   "execution_count": 2,
   "id": "24cebe3f",
   "metadata": {},
   "outputs": [],
   "source": [
    "from langchain_groq import ChatGroq\n",
    "model= ChatGroq(model=\"Gemma2-9b-It\", api_key=groq_api_key)"
   ]
  },
  {
   "cell_type": "code",
   "execution_count": 4,
   "id": "d4d8e3f8",
   "metadata": {},
   "outputs": [
    {
     "data": {
      "text/plain": [
       "ChatGroq(client=<groq.resources.chat.completions.Completions object at 0x0000018DF2DD6D10>, async_client=<groq.resources.chat.completions.AsyncCompletions object at 0x0000018DF2E191E0>, model_name='Gemma2-9b-It', model_kwargs={}, groq_api_key=SecretStr('**********'))"
      ]
     },
     "execution_count": 4,
     "metadata": {},
     "output_type": "execute_result"
    }
   ],
   "source": [
    "model"
   ]
  },
  {
   "cell_type": "code",
   "execution_count": 6,
   "id": "ad685dca",
   "metadata": {},
   "outputs": [],
   "source": [
    "from langchain_core.messages import HumanMessage,SystemMessage\n",
    "messages=[\n",
    "    SystemMessage(content=\"Translate the following input text to Kannada\"),\n",
    "    HumanMessage(content=\"Hello, how are you?\")\n",
    "]\n",
    "result=model.invoke(messages)\n"
   ]
  },
  {
   "cell_type": "code",
   "execution_count": 8,
   "id": "ecf283b0",
   "metadata": {},
   "outputs": [
    {
     "data": {
      "text/plain": [
       "'The Kannada translation for \"Hello, how are you?\" is:\\n\\n**ನಮಸ್ತೆ, ನೀವೇ ಹೇಗಿದ್ದೀರಿ? (Namaste, nive hege iddhiri?)**\\n\\nBreakdown:\\n\\n* **ನಮಸ್ತೆ (Namaste):** Hello\\n* **ನೀವೇ (Nive):** You (formal, respectful)\\n* **ಹೇಗಿದ್ದೀರಿ (Hege iddhiri):** How are you? \\n\\n\\nLet me know if you have any other phrases you\\'d like translated!\\n'"
      ]
     },
     "execution_count": 8,
     "metadata": {},
     "output_type": "execute_result"
    }
   ],
   "source": [
    "from langchain_core.output_parsers import StrOutputParser\n",
    "parser= StrOutputParser()\n",
    "parser.invoke(result)"
   ]
  },
  {
   "cell_type": "code",
   "execution_count": 9,
   "id": "d1ea9c09",
   "metadata": {},
   "outputs": [
    {
     "data": {
      "text/plain": [
       "\"ನನಗೆ ಚೆನ್ನಾಗಿ, ನೀವೇ ಹೇಗಿದ್ದೀರಿ? (Nange chennnāgi, nīvē hēgidīri?) \\n\\n\\nHere's a breakdown:\\n\\n* **ನನಗೆ (Nange):** To me\\n* **ಚೆನ್ನಾಗಿ (chennāgi):**  Well\\n* **, ನೀವೇ (nīvē):** You\\n* **ಹೇಗಿದ್ದೀರಿ? (hēgidīri?):** How are you? \\n\\n\\n\\n\\nLet me know if you have any other phrases you'd like translated!\\n\""
      ]
     },
     "execution_count": 9,
     "metadata": {},
     "output_type": "execute_result"
    }
   ],
   "source": [
    "chain=model | parser\n",
    "chain.invoke(messages)"
   ]
  },
  {
   "cell_type": "code",
   "execution_count": 10,
   "id": "f87dce0b",
   "metadata": {},
   "outputs": [],
   "source": [
    "from langchain_core.prompts import ChatPromptTemplate\n",
    "\n",
    "Gen_template=\"Transalate the following input text to {language}\"\n",
    "\n",
    "prompt=ChatPromptTemplate.from_messages(\n",
    "    [(\"system\", Gen_template),\n",
    "     (\"human\",\"{input_text}\")]\n",
    ")\n"
   ]
  },
  {
   "cell_type": "code",
   "execution_count": 17,
   "id": "ca90c679",
   "metadata": {},
   "outputs": [
    {
     "data": {
      "text/plain": [
       "[SystemMessage(content='Transalate the following input text to Hindi', additional_kwargs={}, response_metadata={}),\n",
       " HumanMessage(content='You are very fat', additional_kwargs={}, response_metadata={})]"
      ]
     },
     "execution_count": 17,
     "metadata": {},
     "output_type": "execute_result"
    }
   ],
   "source": [
    "result=prompt.invoke({\"language\":\"Hindi\",\"input_text\":\"You are very fat\"})\n",
    "result.to_messages()"
   ]
  },
  {
   "cell_type": "code",
   "execution_count": 18,
   "id": "c95b2c27",
   "metadata": {},
   "outputs": [
    {
     "data": {
      "text/plain": [
       "\"आप बहुत मोटे हैं। \\n\\n(aap bahut mote hain.) \\n\\n**Please note:** This translation is direct but can be considered rude. \\n\\nIt's important to be mindful and respectful when talking about someone's weight.  Consider using more sensitive language if you need to address this topic. \\n\""
      ]
     },
     "execution_count": 18,
     "metadata": {},
     "output_type": "execute_result"
    }
   ],
   "source": [
    "chain=prompt|model|parser\n",
    "chain.invoke({\"language\":\"Hindi\",\"input_text\":\"You are very fat \"})"
   ]
  },
  {
   "cell_type": "code",
   "execution_count": null,
   "id": "46f37f05",
   "metadata": {},
   "outputs": [],
   "source": []
  },
  {
   "cell_type": "code",
   "execution_count": null,
   "id": "60ca8803",
   "metadata": {},
   "outputs": [],
   "source": []
  },
  {
   "cell_type": "code",
   "execution_count": null,
   "id": "325d5ce9",
   "metadata": {},
   "outputs": [],
   "source": []
  },
  {
   "cell_type": "code",
   "execution_count": null,
   "id": "da716f32",
   "metadata": {},
   "outputs": [],
   "source": []
  }
 ],
 "metadata": {
  "kernelspec": {
   "display_name": "Python 3",
   "language": "python",
   "name": "python3"
  },
  "language_info": {
   "codemirror_mode": {
    "name": "ipython",
    "version": 3
   },
   "file_extension": ".py",
   "mimetype": "text/x-python",
   "name": "python",
   "nbconvert_exporter": "python",
   "pygments_lexer": "ipython3",
   "version": "3.10.0"
  }
 },
 "nbformat": 4,
 "nbformat_minor": 5
}
